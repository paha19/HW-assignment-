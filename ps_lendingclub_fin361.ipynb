{
 "cells": [
  {
   "cell_type": "markdown",
   "metadata": {},
   "source": [
    "# Estimating default risk using  LendingClub data"
   ]
  },
  {
   "cell_type": "markdown",
   "metadata": {},
   "source": [
    "### Overview"
   ]
  },
  {
   "cell_type": "markdown",
   "metadata": {},
   "source": [
    "LendingClub is a peer-to-peer lending company that has originated over $50 billion in loans. LendingClub provides a platform where borrowers can obtain loans and investors can invest in notes backed by payments on the loans. Interest rates are based on the likelihood that the borrower will be able to make interest payments and return the principal. Estimating an optimal interest rate and predicting the probability of default is important to both the company and investors who seek to minimize risk and maximize returns.\n",
    "\n",
    "In this exercise, you will use LendingClub data to predict the probability of default. You will use machine learning techniques to determine the likelihood of default within a specific grade of loan. LendingClub originates loans with different grades that are based on risk and a corresponding interest rate. Higher interest rates correspond to riskier grades. \n",
    "\n",
    "The data consists of every loan issued from 2007 to 2018. You will use the data to train and test a logistic regression model to determine probability of default. The data consists of 151 fields, including income, location, and occupation. The exercise will require you to derive a training set and test set of the data. The goal is to use a machine learning model to classify the loans as either good or bad."
   ]
  },
  {
   "cell_type": "markdown",
   "metadata": {},
   "source": [
    "### Contents"
   ]
  },
  {
   "cell_type": "markdown",
   "metadata": {},
   "source": [
    "1. Introduction\n",
    "    * Goal\n",
    "    * Data\n",
    "    * Model\n",
    "2. Import Python libraries\n",
    "    * pandas\n",
    "    * numpy\n",
    "    * scipy\n",
    "3. Import data\n",
    "    * CSV file (2GB)\n",
    "4. Target variable\n",
    "5. Feature selection\n",
    "    * Select features available to investors\n",
    "    * Remove features lacking data\n",
    "6. Preprocessing\n",
    "    * Convert variables to integers\n",
    "    * Create dummy variables\n",
    "7. Logistic regression\n",
    "    * Training\n",
    "    * Testing\n",
    "    * Fitting the model\n",
    "    * Scoring the model"
   ]
  },
  {
   "cell_type": "markdown",
   "metadata": {},
   "source": [
    "### (1) Introduction"
   ]
  },
  {
   "cell_type": "markdown",
   "metadata": {},
   "source": [
    "The goal is to classify which loans are expected to default. \n",
    "\n",
    "The data is retrived from LendingClub's website. https://www.lendingclub.com/info/download-data.action\n",
    "\n",
    "A logistic regression model is used to perform the classification exercise.\n",
    "\n",
    "Your assignment will be to complete any tasks and questions listed throughout the notebook. You will also need to input the code in the logistic regression section as demonstrated in class."
   ]
  },
  {
   "cell_type": "markdown",
   "metadata": {},
   "source": [
    "### (2) Import Python libraries"
   ]
  },
  {
   "cell_type": "code",
   "execution_count": 1,
   "metadata": {},
   "outputs": [],
   "source": [
    "import pandas as pd\n",
    "import numpy as np\n",
    "import scipy as sp\n",
    "import seaborn as sns \n",
    "import matplotlib.pyplot as plt\n",
    "import matplotlib as mpl\n",
    "import time\n",
    "\n",
    "# Plotting options\n",
    "%matplotlib inline\n",
    "mpl.style.use('ggplot')\n",
    "sns.set(style='whitegrid')"
   ]
  },
  {
   "cell_type": "markdown",
   "metadata": {},
   "source": [
    "**TASK: Look up and provide a brief description of the seaborn library as a comment to the right of the import statement.**"
   ]
  },
  {
   "cell_type": "markdown",
   "metadata": {},
   "source": [
    "### (3) Import data"
   ]
  },
  {
   "cell_type": "markdown",
   "metadata": {},
   "source": [
    "Data is imported as a CSV file. It is over 2GB is size, so please allow time for it to load. "
   ]
  },
  {
   "cell_type": "code",
   "execution_count": 2,
   "metadata": {},
   "outputs": [
    {
     "name": "stdout",
     "output_type": "stream",
     "text": [
      "Time elapsed: 241.08604216575623 seconds\n"
     ]
    }
   ],
   "source": [
    "start = time.time() # start timer to measure processing time\n",
    "lc_df = pd.read_csv('accepted_2007_to_2018Q4.csv', low_memory=False) # load the CSV file\n",
    "end = time.time() # end timer\n",
    "print(\"Time elapsed:\", (end - start),\"seconds\") # display time elapsed"
   ]
  },
  {
   "cell_type": "markdown",
   "metadata": {},
   "source": [
    "**Task: Change the above code to round seconds to the nearest whole number. Refer to the documentation: https://docs.python.org/3/library/functions.html**"
   ]
  },
  {
   "cell_type": "code",
   "execution_count": 3,
   "metadata": {},
   "outputs": [
    {
     "name": "stdout",
     "output_type": "stream",
     "text": [
      "<class 'pandas.core.frame.DataFrame'>\n",
      "RangeIndex: 2260701 entries, 0 to 2260700\n",
      "Columns: 151 entries, id to settlement_term\n",
      "dtypes: float64(113), object(38)\n",
      "memory usage: 2.5+ GB\n"
     ]
    }
   ],
   "source": [
    "# Check dataframe info\n",
    "lc_df.info()"
   ]
  },
  {
   "cell_type": "code",
   "execution_count": 4,
   "metadata": {},
   "outputs": [
    {
     "data": {
      "text/html": [
       "<div>\n",
       "<style scoped>\n",
       "    .dataframe tbody tr th:only-of-type {\n",
       "        vertical-align: middle;\n",
       "    }\n",
       "\n",
       "    .dataframe tbody tr th {\n",
       "        vertical-align: top;\n",
       "    }\n",
       "\n",
       "    .dataframe thead th {\n",
       "        text-align: right;\n",
       "    }\n",
       "</style>\n",
       "<table border=\"1\" class=\"dataframe\">\n",
       "  <thead>\n",
       "    <tr style=\"text-align: right;\">\n",
       "      <th></th>\n",
       "      <th>id</th>\n",
       "      <th>member_id</th>\n",
       "      <th>loan_amnt</th>\n",
       "      <th>funded_amnt</th>\n",
       "      <th>funded_amnt_inv</th>\n",
       "      <th>term</th>\n",
       "      <th>int_rate</th>\n",
       "      <th>installment</th>\n",
       "      <th>grade</th>\n",
       "      <th>sub_grade</th>\n",
       "      <th>...</th>\n",
       "      <th>hardship_payoff_balance_amount</th>\n",
       "      <th>hardship_last_payment_amount</th>\n",
       "      <th>disbursement_method</th>\n",
       "      <th>debt_settlement_flag</th>\n",
       "      <th>debt_settlement_flag_date</th>\n",
       "      <th>settlement_status</th>\n",
       "      <th>settlement_date</th>\n",
       "      <th>settlement_amount</th>\n",
       "      <th>settlement_percentage</th>\n",
       "      <th>settlement_term</th>\n",
       "    </tr>\n",
       "  </thead>\n",
       "  <tbody>\n",
       "    <tr>\n",
       "      <th>0</th>\n",
       "      <td>68407277</td>\n",
       "      <td>NaN</td>\n",
       "      <td>3600.0</td>\n",
       "      <td>3600.0</td>\n",
       "      <td>3600.0</td>\n",
       "      <td>36 months</td>\n",
       "      <td>13.99</td>\n",
       "      <td>123.03</td>\n",
       "      <td>C</td>\n",
       "      <td>C4</td>\n",
       "      <td>...</td>\n",
       "      <td>NaN</td>\n",
       "      <td>NaN</td>\n",
       "      <td>Cash</td>\n",
       "      <td>N</td>\n",
       "      <td>NaN</td>\n",
       "      <td>NaN</td>\n",
       "      <td>NaN</td>\n",
       "      <td>NaN</td>\n",
       "      <td>NaN</td>\n",
       "      <td>NaN</td>\n",
       "    </tr>\n",
       "    <tr>\n",
       "      <th>1</th>\n",
       "      <td>68355089</td>\n",
       "      <td>NaN</td>\n",
       "      <td>24700.0</td>\n",
       "      <td>24700.0</td>\n",
       "      <td>24700.0</td>\n",
       "      <td>36 months</td>\n",
       "      <td>11.99</td>\n",
       "      <td>820.28</td>\n",
       "      <td>C</td>\n",
       "      <td>C1</td>\n",
       "      <td>...</td>\n",
       "      <td>NaN</td>\n",
       "      <td>NaN</td>\n",
       "      <td>Cash</td>\n",
       "      <td>N</td>\n",
       "      <td>NaN</td>\n",
       "      <td>NaN</td>\n",
       "      <td>NaN</td>\n",
       "      <td>NaN</td>\n",
       "      <td>NaN</td>\n",
       "      <td>NaN</td>\n",
       "    </tr>\n",
       "    <tr>\n",
       "      <th>2</th>\n",
       "      <td>68341763</td>\n",
       "      <td>NaN</td>\n",
       "      <td>20000.0</td>\n",
       "      <td>20000.0</td>\n",
       "      <td>20000.0</td>\n",
       "      <td>60 months</td>\n",
       "      <td>10.78</td>\n",
       "      <td>432.66</td>\n",
       "      <td>B</td>\n",
       "      <td>B4</td>\n",
       "      <td>...</td>\n",
       "      <td>NaN</td>\n",
       "      <td>NaN</td>\n",
       "      <td>Cash</td>\n",
       "      <td>N</td>\n",
       "      <td>NaN</td>\n",
       "      <td>NaN</td>\n",
       "      <td>NaN</td>\n",
       "      <td>NaN</td>\n",
       "      <td>NaN</td>\n",
       "      <td>NaN</td>\n",
       "    </tr>\n",
       "    <tr>\n",
       "      <th>3</th>\n",
       "      <td>66310712</td>\n",
       "      <td>NaN</td>\n",
       "      <td>35000.0</td>\n",
       "      <td>35000.0</td>\n",
       "      <td>35000.0</td>\n",
       "      <td>60 months</td>\n",
       "      <td>14.85</td>\n",
       "      <td>829.90</td>\n",
       "      <td>C</td>\n",
       "      <td>C5</td>\n",
       "      <td>...</td>\n",
       "      <td>NaN</td>\n",
       "      <td>NaN</td>\n",
       "      <td>Cash</td>\n",
       "      <td>N</td>\n",
       "      <td>NaN</td>\n",
       "      <td>NaN</td>\n",
       "      <td>NaN</td>\n",
       "      <td>NaN</td>\n",
       "      <td>NaN</td>\n",
       "      <td>NaN</td>\n",
       "    </tr>\n",
       "    <tr>\n",
       "      <th>4</th>\n",
       "      <td>68476807</td>\n",
       "      <td>NaN</td>\n",
       "      <td>10400.0</td>\n",
       "      <td>10400.0</td>\n",
       "      <td>10400.0</td>\n",
       "      <td>60 months</td>\n",
       "      <td>22.45</td>\n",
       "      <td>289.91</td>\n",
       "      <td>F</td>\n",
       "      <td>F1</td>\n",
       "      <td>...</td>\n",
       "      <td>NaN</td>\n",
       "      <td>NaN</td>\n",
       "      <td>Cash</td>\n",
       "      <td>N</td>\n",
       "      <td>NaN</td>\n",
       "      <td>NaN</td>\n",
       "      <td>NaN</td>\n",
       "      <td>NaN</td>\n",
       "      <td>NaN</td>\n",
       "      <td>NaN</td>\n",
       "    </tr>\n",
       "  </tbody>\n",
       "</table>\n",
       "<p>5 rows × 151 columns</p>\n",
       "</div>"
      ],
      "text/plain": [
       "         id  member_id  loan_amnt  funded_amnt  funded_amnt_inv        term  \\\n",
       "0  68407277        NaN     3600.0       3600.0           3600.0   36 months   \n",
       "1  68355089        NaN    24700.0      24700.0          24700.0   36 months   \n",
       "2  68341763        NaN    20000.0      20000.0          20000.0   60 months   \n",
       "3  66310712        NaN    35000.0      35000.0          35000.0   60 months   \n",
       "4  68476807        NaN    10400.0      10400.0          10400.0   60 months   \n",
       "\n",
       "   int_rate  installment grade sub_grade  ... hardship_payoff_balance_amount  \\\n",
       "0     13.99       123.03     C        C4  ...                            NaN   \n",
       "1     11.99       820.28     C        C1  ...                            NaN   \n",
       "2     10.78       432.66     B        B4  ...                            NaN   \n",
       "3     14.85       829.90     C        C5  ...                            NaN   \n",
       "4     22.45       289.91     F        F1  ...                            NaN   \n",
       "\n",
       "  hardship_last_payment_amount disbursement_method  debt_settlement_flag  \\\n",
       "0                          NaN                Cash                     N   \n",
       "1                          NaN                Cash                     N   \n",
       "2                          NaN                Cash                     N   \n",
       "3                          NaN                Cash                     N   \n",
       "4                          NaN                Cash                     N   \n",
       "\n",
       "  debt_settlement_flag_date settlement_status settlement_date  \\\n",
       "0                       NaN               NaN             NaN   \n",
       "1                       NaN               NaN             NaN   \n",
       "2                       NaN               NaN             NaN   \n",
       "3                       NaN               NaN             NaN   \n",
       "4                       NaN               NaN             NaN   \n",
       "\n",
       "  settlement_amount settlement_percentage settlement_term  \n",
       "0               NaN                   NaN             NaN  \n",
       "1               NaN                   NaN             NaN  \n",
       "2               NaN                   NaN             NaN  \n",
       "3               NaN                   NaN             NaN  \n",
       "4               NaN                   NaN             NaN  \n",
       "\n",
       "[5 rows x 151 columns]"
      ]
     },
     "execution_count": 4,
     "metadata": {},
     "output_type": "execute_result"
    }
   ],
   "source": [
    "# What does the data look like\n",
    "lc_df.head()"
   ]
  },
  {
   "cell_type": "code",
   "execution_count": 5,
   "metadata": {
    "scrolled": true
   },
   "outputs": [
    {
     "data": {
      "text/plain": [
       "id                                             object\n",
       "member_id                                     float64\n",
       "loan_amnt                                     float64\n",
       "funded_amnt                                   float64\n",
       "funded_amnt_inv                               float64\n",
       "term                                           object\n",
       "int_rate                                      float64\n",
       "installment                                   float64\n",
       "grade                                          object\n",
       "sub_grade                                      object\n",
       "emp_title                                      object\n",
       "emp_length                                     object\n",
       "home_ownership                                 object\n",
       "annual_inc                                    float64\n",
       "verification_status                            object\n",
       "issue_d                                        object\n",
       "loan_status                                    object\n",
       "pymnt_plan                                     object\n",
       "url                                            object\n",
       "desc                                           object\n",
       "purpose                                        object\n",
       "title                                          object\n",
       "zip_code                                       object\n",
       "addr_state                                     object\n",
       "dti                                           float64\n",
       "delinq_2yrs                                   float64\n",
       "earliest_cr_line                               object\n",
       "fico_range_low                                float64\n",
       "fico_range_high                               float64\n",
       "inq_last_6mths                                float64\n",
       "                                               ...   \n",
       "sec_app_open_acc                              float64\n",
       "sec_app_revol_util                            float64\n",
       "sec_app_open_act_il                           float64\n",
       "sec_app_num_rev_accts                         float64\n",
       "sec_app_chargeoff_within_12_mths              float64\n",
       "sec_app_collections_12_mths_ex_med            float64\n",
       "sec_app_mths_since_last_major_derog           float64\n",
       "hardship_flag                                  object\n",
       "hardship_type                                  object\n",
       "hardship_reason                                object\n",
       "hardship_status                                object\n",
       "deferral_term                                 float64\n",
       "hardship_amount                               float64\n",
       "hardship_start_date                            object\n",
       "hardship_end_date                              object\n",
       "payment_plan_start_date                        object\n",
       "hardship_length                               float64\n",
       "hardship_dpd                                  float64\n",
       "hardship_loan_status                           object\n",
       "orig_projected_additional_accrued_interest    float64\n",
       "hardship_payoff_balance_amount                float64\n",
       "hardship_last_payment_amount                  float64\n",
       "disbursement_method                            object\n",
       "debt_settlement_flag                           object\n",
       "debt_settlement_flag_date                      object\n",
       "settlement_status                              object\n",
       "settlement_date                                object\n",
       "settlement_amount                             float64\n",
       "settlement_percentage                         float64\n",
       "settlement_term                               float64\n",
       "Length: 151, dtype: object"
      ]
     },
     "execution_count": 5,
     "metadata": {},
     "output_type": "execute_result"
    }
   ],
   "source": [
    "# Check datatype of each column\n",
    "lc_df.dtypes"
   ]
  },
  {
   "cell_type": "code",
   "execution_count": 6,
   "metadata": {
    "scrolled": true
   },
   "outputs": [
    {
     "data": {
      "text/plain": [
       "9"
      ]
     },
     "execution_count": 6,
     "metadata": {},
     "output_type": "execute_result"
    }
   ],
   "source": [
    "# Unique values for our target variable\n",
    "lc_df['loan_status'].nunique()"
   ]
  },
  {
   "cell_type": "code",
   "execution_count": 7,
   "metadata": {
    "scrolled": true
   },
   "outputs": [
    {
     "data": {
      "text/plain": [
       "0           Fully Paid\n",
       "1           Fully Paid\n",
       "2           Fully Paid\n",
       "3              Current\n",
       "4           Fully Paid\n",
       "5           Fully Paid\n",
       "6           Fully Paid\n",
       "7           Fully Paid\n",
       "8           Fully Paid\n",
       "9           Fully Paid\n",
       "10             Current\n",
       "11             Current\n",
       "12          Fully Paid\n",
       "13         Charged Off\n",
       "14          Fully Paid\n",
       "15          Fully Paid\n",
       "16          Fully Paid\n",
       "17          Fully Paid\n",
       "18             Current\n",
       "19          Fully Paid\n",
       "20          Fully Paid\n",
       "21          Fully Paid\n",
       "22          Fully Paid\n",
       "23          Fully Paid\n",
       "24          Fully Paid\n",
       "25         Charged Off\n",
       "26          Fully Paid\n",
       "27          Fully Paid\n",
       "28          Fully Paid\n",
       "29          Fully Paid\n",
       "              ...     \n",
       "2260671        Current\n",
       "2260672    Charged Off\n",
       "2260673    Charged Off\n",
       "2260674     Fully Paid\n",
       "2260675     Fully Paid\n",
       "2260676        Current\n",
       "2260677    Charged Off\n",
       "2260678        Current\n",
       "2260679        Current\n",
       "2260680     Fully Paid\n",
       "2260681        Current\n",
       "2260682        Current\n",
       "2260683        Current\n",
       "2260684     Fully Paid\n",
       "2260685    Charged Off\n",
       "2260686     Fully Paid\n",
       "2260687        Current\n",
       "2260688     Fully Paid\n",
       "2260689        Current\n",
       "2260690     Fully Paid\n",
       "2260691    Charged Off\n",
       "2260692     Fully Paid\n",
       "2260693        Current\n",
       "2260694        Current\n",
       "2260695        Current\n",
       "2260696        Current\n",
       "2260697    Charged Off\n",
       "2260698        Current\n",
       "2260699            NaN\n",
       "2260700            NaN\n",
       "Name: loan_status, Length: 2260701, dtype: object"
      ]
     },
     "execution_count": 7,
     "metadata": {},
     "output_type": "execute_result"
    }
   ],
   "source": [
    "lc_df['loan_status']"
   ]
  },
  {
   "cell_type": "markdown",
   "metadata": {},
   "source": [
    "###  (4) Target variable"
   ]
  },
  {
   "cell_type": "markdown",
   "metadata": {},
   "source": [
    "Computing the value counts for the loan_status variable, which is the variable we are going to predict."
   ]
  },
  {
   "cell_type": "code",
   "execution_count": 8,
   "metadata": {},
   "outputs": [
    {
     "data": {
      "text/plain": [
       "Fully Paid                                             1076751\n",
       "Current                                                 878317\n",
       "Charged Off                                             268559\n",
       "Late (31-120 days)                                       21467\n",
       "In Grace Period                                           8436\n",
       "Late (16-30 days)                                         4349\n",
       "Does not meet the credit policy. Status:Fully Paid        1988\n",
       "Does not meet the credit policy. Status:Charged Off        761\n",
       "Default                                                     40\n",
       "NaN                                                         33\n",
       "Name: loan_status, dtype: int64"
      ]
     },
     "execution_count": 8,
     "metadata": {},
     "output_type": "execute_result"
    }
   ],
   "source": [
    "lc_df['loan_status'].value_counts(dropna=False)"
   ]
  },
  {
   "cell_type": "markdown",
   "metadata": {},
   "source": [
    "For the loan_status target variable, we want only the rows with loans that were fully paid ('Fully Paid') or defaulted ('Charged Off'). We will remove the remaining rows in the dataset."
   ]
  },
  {
   "cell_type": "code",
   "execution_count": 9,
   "metadata": {
    "scrolled": true
   },
   "outputs": [],
   "source": [
    "# Create a series of boolean values representing of the observations to keep\n",
    "bool_keep = lc_df['loan_status'].isin(['Fully Paid', 'Charged Off'])"
   ]
  },
  {
   "cell_type": "code",
   "execution_count": 10,
   "metadata": {},
   "outputs": [
    {
     "data": {
      "text/plain": [
       "1767167     True\n",
       "356089      True\n",
       "1764473     True\n",
       "741134      True\n",
       "221077      True\n",
       "1456100    False\n",
       "1882679     True\n",
       "1388655    False\n",
       "1834270     True\n",
       "530573      True\n",
       "72306       True\n",
       "2115686     True\n",
       "578835     False\n",
       "840583     False\n",
       "1117507     True\n",
       "Name: loan_status, dtype: bool"
      ]
     },
     "execution_count": 10,
     "metadata": {},
     "output_type": "execute_result"
    }
   ],
   "source": [
    "bool_keep.sample(15)"
   ]
  },
  {
   "cell_type": "code",
   "execution_count": 11,
   "metadata": {},
   "outputs": [],
   "source": [
    "# Map the series of boolean values to the dataset and select only True rows\n",
    "lc_df = lc_df.loc[bool_keep]"
   ]
  },
  {
   "cell_type": "code",
   "execution_count": 12,
   "metadata": {},
   "outputs": [
    {
     "data": {
      "text/plain": [
       "Fully Paid     1076751\n",
       "Charged Off     268559\n",
       "Name: loan_status, dtype: int64"
      ]
     },
     "execution_count": 12,
     "metadata": {},
     "output_type": "execute_result"
    }
   ],
   "source": [
    "# Check value counts again\n",
    "lc_df['loan_status'].value_counts()"
   ]
  },
  {
   "cell_type": "code",
   "execution_count": 13,
   "metadata": {},
   "outputs": [
    {
     "data": {
      "text/plain": [
       "(1345310, 151)"
      ]
     },
     "execution_count": 13,
     "metadata": {},
     "output_type": "execute_result"
    }
   ],
   "source": [
    "# Check the number of rows (observations) and columns (features)\n",
    "lc_df.shape"
   ]
  },
  {
   "cell_type": "code",
   "execution_count": 14,
   "metadata": {},
   "outputs": [
    {
     "data": {
      "text/plain": [
       "Fully Paid     0.800374\n",
       "Charged Off    0.199626\n",
       "Name: loan_status, dtype: float64"
      ]
     },
     "execution_count": 14,
     "metadata": {},
     "output_type": "execute_result"
    }
   ],
   "source": [
    "# Value counts as percentages\n",
    "lc_df['loan_status'].value_counts(normalize=True)"
   ]
  },
  {
   "cell_type": "code",
   "execution_count": 15,
   "metadata": {
    "scrolled": true
   },
   "outputs": [
    {
     "data": {
      "text/html": [
       "<div>\n",
       "<style scoped>\n",
       "    .dataframe tbody tr th:only-of-type {\n",
       "        vertical-align: middle;\n",
       "    }\n",
       "\n",
       "    .dataframe tbody tr th {\n",
       "        vertical-align: top;\n",
       "    }\n",
       "\n",
       "    .dataframe thead th {\n",
       "        text-align: right;\n",
       "    }\n",
       "</style>\n",
       "<table border=\"1\" class=\"dataframe\">\n",
       "  <thead>\n",
       "    <tr style=\"text-align: right;\">\n",
       "      <th></th>\n",
       "      <th>id</th>\n",
       "      <th>member_id</th>\n",
       "      <th>loan_amnt</th>\n",
       "      <th>funded_amnt</th>\n",
       "      <th>funded_amnt_inv</th>\n",
       "      <th>term</th>\n",
       "      <th>int_rate</th>\n",
       "      <th>installment</th>\n",
       "      <th>grade</th>\n",
       "      <th>sub_grade</th>\n",
       "      <th>...</th>\n",
       "      <th>hardship_payoff_balance_amount</th>\n",
       "      <th>hardship_last_payment_amount</th>\n",
       "      <th>disbursement_method</th>\n",
       "      <th>debt_settlement_flag</th>\n",
       "      <th>debt_settlement_flag_date</th>\n",
       "      <th>settlement_status</th>\n",
       "      <th>settlement_date</th>\n",
       "      <th>settlement_amount</th>\n",
       "      <th>settlement_percentage</th>\n",
       "      <th>settlement_term</th>\n",
       "    </tr>\n",
       "  </thead>\n",
       "  <tbody>\n",
       "    <tr>\n",
       "      <th>0</th>\n",
       "      <td>68407277</td>\n",
       "      <td>NaN</td>\n",
       "      <td>3600.0</td>\n",
       "      <td>3600.0</td>\n",
       "      <td>3600.0</td>\n",
       "      <td>36 months</td>\n",
       "      <td>13.99</td>\n",
       "      <td>123.03</td>\n",
       "      <td>C</td>\n",
       "      <td>C4</td>\n",
       "      <td>...</td>\n",
       "      <td>NaN</td>\n",
       "      <td>NaN</td>\n",
       "      <td>Cash</td>\n",
       "      <td>N</td>\n",
       "      <td>NaN</td>\n",
       "      <td>NaN</td>\n",
       "      <td>NaN</td>\n",
       "      <td>NaN</td>\n",
       "      <td>NaN</td>\n",
       "      <td>NaN</td>\n",
       "    </tr>\n",
       "    <tr>\n",
       "      <th>1</th>\n",
       "      <td>68355089</td>\n",
       "      <td>NaN</td>\n",
       "      <td>24700.0</td>\n",
       "      <td>24700.0</td>\n",
       "      <td>24700.0</td>\n",
       "      <td>36 months</td>\n",
       "      <td>11.99</td>\n",
       "      <td>820.28</td>\n",
       "      <td>C</td>\n",
       "      <td>C1</td>\n",
       "      <td>...</td>\n",
       "      <td>NaN</td>\n",
       "      <td>NaN</td>\n",
       "      <td>Cash</td>\n",
       "      <td>N</td>\n",
       "      <td>NaN</td>\n",
       "      <td>NaN</td>\n",
       "      <td>NaN</td>\n",
       "      <td>NaN</td>\n",
       "      <td>NaN</td>\n",
       "      <td>NaN</td>\n",
       "    </tr>\n",
       "    <tr>\n",
       "      <th>2</th>\n",
       "      <td>68341763</td>\n",
       "      <td>NaN</td>\n",
       "      <td>20000.0</td>\n",
       "      <td>20000.0</td>\n",
       "      <td>20000.0</td>\n",
       "      <td>60 months</td>\n",
       "      <td>10.78</td>\n",
       "      <td>432.66</td>\n",
       "      <td>B</td>\n",
       "      <td>B4</td>\n",
       "      <td>...</td>\n",
       "      <td>NaN</td>\n",
       "      <td>NaN</td>\n",
       "      <td>Cash</td>\n",
       "      <td>N</td>\n",
       "      <td>NaN</td>\n",
       "      <td>NaN</td>\n",
       "      <td>NaN</td>\n",
       "      <td>NaN</td>\n",
       "      <td>NaN</td>\n",
       "      <td>NaN</td>\n",
       "    </tr>\n",
       "    <tr>\n",
       "      <th>4</th>\n",
       "      <td>68476807</td>\n",
       "      <td>NaN</td>\n",
       "      <td>10400.0</td>\n",
       "      <td>10400.0</td>\n",
       "      <td>10400.0</td>\n",
       "      <td>60 months</td>\n",
       "      <td>22.45</td>\n",
       "      <td>289.91</td>\n",
       "      <td>F</td>\n",
       "      <td>F1</td>\n",
       "      <td>...</td>\n",
       "      <td>NaN</td>\n",
       "      <td>NaN</td>\n",
       "      <td>Cash</td>\n",
       "      <td>N</td>\n",
       "      <td>NaN</td>\n",
       "      <td>NaN</td>\n",
       "      <td>NaN</td>\n",
       "      <td>NaN</td>\n",
       "      <td>NaN</td>\n",
       "      <td>NaN</td>\n",
       "    </tr>\n",
       "    <tr>\n",
       "      <th>5</th>\n",
       "      <td>68426831</td>\n",
       "      <td>NaN</td>\n",
       "      <td>11950.0</td>\n",
       "      <td>11950.0</td>\n",
       "      <td>11950.0</td>\n",
       "      <td>36 months</td>\n",
       "      <td>13.44</td>\n",
       "      <td>405.18</td>\n",
       "      <td>C</td>\n",
       "      <td>C3</td>\n",
       "      <td>...</td>\n",
       "      <td>NaN</td>\n",
       "      <td>NaN</td>\n",
       "      <td>Cash</td>\n",
       "      <td>N</td>\n",
       "      <td>NaN</td>\n",
       "      <td>NaN</td>\n",
       "      <td>NaN</td>\n",
       "      <td>NaN</td>\n",
       "      <td>NaN</td>\n",
       "      <td>NaN</td>\n",
       "    </tr>\n",
       "    <tr>\n",
       "      <th>6</th>\n",
       "      <td>68476668</td>\n",
       "      <td>NaN</td>\n",
       "      <td>20000.0</td>\n",
       "      <td>20000.0</td>\n",
       "      <td>20000.0</td>\n",
       "      <td>36 months</td>\n",
       "      <td>9.17</td>\n",
       "      <td>637.58</td>\n",
       "      <td>B</td>\n",
       "      <td>B2</td>\n",
       "      <td>...</td>\n",
       "      <td>NaN</td>\n",
       "      <td>NaN</td>\n",
       "      <td>Cash</td>\n",
       "      <td>N</td>\n",
       "      <td>NaN</td>\n",
       "      <td>NaN</td>\n",
       "      <td>NaN</td>\n",
       "      <td>NaN</td>\n",
       "      <td>NaN</td>\n",
       "      <td>NaN</td>\n",
       "    </tr>\n",
       "    <tr>\n",
       "      <th>7</th>\n",
       "      <td>67275481</td>\n",
       "      <td>NaN</td>\n",
       "      <td>20000.0</td>\n",
       "      <td>20000.0</td>\n",
       "      <td>20000.0</td>\n",
       "      <td>36 months</td>\n",
       "      <td>8.49</td>\n",
       "      <td>631.26</td>\n",
       "      <td>B</td>\n",
       "      <td>B1</td>\n",
       "      <td>...</td>\n",
       "      <td>NaN</td>\n",
       "      <td>NaN</td>\n",
       "      <td>Cash</td>\n",
       "      <td>N</td>\n",
       "      <td>NaN</td>\n",
       "      <td>NaN</td>\n",
       "      <td>NaN</td>\n",
       "      <td>NaN</td>\n",
       "      <td>NaN</td>\n",
       "      <td>NaN</td>\n",
       "    </tr>\n",
       "    <tr>\n",
       "      <th>8</th>\n",
       "      <td>68466926</td>\n",
       "      <td>NaN</td>\n",
       "      <td>10000.0</td>\n",
       "      <td>10000.0</td>\n",
       "      <td>10000.0</td>\n",
       "      <td>36 months</td>\n",
       "      <td>6.49</td>\n",
       "      <td>306.45</td>\n",
       "      <td>A</td>\n",
       "      <td>A2</td>\n",
       "      <td>...</td>\n",
       "      <td>NaN</td>\n",
       "      <td>NaN</td>\n",
       "      <td>Cash</td>\n",
       "      <td>N</td>\n",
       "      <td>NaN</td>\n",
       "      <td>NaN</td>\n",
       "      <td>NaN</td>\n",
       "      <td>NaN</td>\n",
       "      <td>NaN</td>\n",
       "      <td>NaN</td>\n",
       "    </tr>\n",
       "    <tr>\n",
       "      <th>9</th>\n",
       "      <td>68616873</td>\n",
       "      <td>NaN</td>\n",
       "      <td>8000.0</td>\n",
       "      <td>8000.0</td>\n",
       "      <td>8000.0</td>\n",
       "      <td>36 months</td>\n",
       "      <td>11.48</td>\n",
       "      <td>263.74</td>\n",
       "      <td>B</td>\n",
       "      <td>B5</td>\n",
       "      <td>...</td>\n",
       "      <td>NaN</td>\n",
       "      <td>NaN</td>\n",
       "      <td>Cash</td>\n",
       "      <td>N</td>\n",
       "      <td>NaN</td>\n",
       "      <td>NaN</td>\n",
       "      <td>NaN</td>\n",
       "      <td>NaN</td>\n",
       "      <td>NaN</td>\n",
       "      <td>NaN</td>\n",
       "    </tr>\n",
       "    <tr>\n",
       "      <th>12</th>\n",
       "      <td>68338832</td>\n",
       "      <td>NaN</td>\n",
       "      <td>1400.0</td>\n",
       "      <td>1400.0</td>\n",
       "      <td>1400.0</td>\n",
       "      <td>36 months</td>\n",
       "      <td>12.88</td>\n",
       "      <td>47.10</td>\n",
       "      <td>C</td>\n",
       "      <td>C2</td>\n",
       "      <td>...</td>\n",
       "      <td>NaN</td>\n",
       "      <td>NaN</td>\n",
       "      <td>Cash</td>\n",
       "      <td>N</td>\n",
       "      <td>NaN</td>\n",
       "      <td>NaN</td>\n",
       "      <td>NaN</td>\n",
       "      <td>NaN</td>\n",
       "      <td>NaN</td>\n",
       "      <td>NaN</td>\n",
       "    </tr>\n",
       "  </tbody>\n",
       "</table>\n",
       "<p>10 rows × 151 columns</p>\n",
       "</div>"
      ],
      "text/plain": [
       "          id  member_id  loan_amnt  funded_amnt  funded_amnt_inv        term  \\\n",
       "0   68407277        NaN     3600.0       3600.0           3600.0   36 months   \n",
       "1   68355089        NaN    24700.0      24700.0          24700.0   36 months   \n",
       "2   68341763        NaN    20000.0      20000.0          20000.0   60 months   \n",
       "4   68476807        NaN    10400.0      10400.0          10400.0   60 months   \n",
       "5   68426831        NaN    11950.0      11950.0          11950.0   36 months   \n",
       "6   68476668        NaN    20000.0      20000.0          20000.0   36 months   \n",
       "7   67275481        NaN    20000.0      20000.0          20000.0   36 months   \n",
       "8   68466926        NaN    10000.0      10000.0          10000.0   36 months   \n",
       "9   68616873        NaN     8000.0       8000.0           8000.0   36 months   \n",
       "12  68338832        NaN     1400.0       1400.0           1400.0   36 months   \n",
       "\n",
       "    int_rate  installment grade sub_grade  ... hardship_payoff_balance_amount  \\\n",
       "0      13.99       123.03     C        C4  ...                            NaN   \n",
       "1      11.99       820.28     C        C1  ...                            NaN   \n",
       "2      10.78       432.66     B        B4  ...                            NaN   \n",
       "4      22.45       289.91     F        F1  ...                            NaN   \n",
       "5      13.44       405.18     C        C3  ...                            NaN   \n",
       "6       9.17       637.58     B        B2  ...                            NaN   \n",
       "7       8.49       631.26     B        B1  ...                            NaN   \n",
       "8       6.49       306.45     A        A2  ...                            NaN   \n",
       "9      11.48       263.74     B        B5  ...                            NaN   \n",
       "12     12.88        47.10     C        C2  ...                            NaN   \n",
       "\n",
       "   hardship_last_payment_amount disbursement_method  debt_settlement_flag  \\\n",
       "0                           NaN                Cash                     N   \n",
       "1                           NaN                Cash                     N   \n",
       "2                           NaN                Cash                     N   \n",
       "4                           NaN                Cash                     N   \n",
       "5                           NaN                Cash                     N   \n",
       "6                           NaN                Cash                     N   \n",
       "7                           NaN                Cash                     N   \n",
       "8                           NaN                Cash                     N   \n",
       "9                           NaN                Cash                     N   \n",
       "12                          NaN                Cash                     N   \n",
       "\n",
       "   debt_settlement_flag_date settlement_status settlement_date  \\\n",
       "0                        NaN               NaN             NaN   \n",
       "1                        NaN               NaN             NaN   \n",
       "2                        NaN               NaN             NaN   \n",
       "4                        NaN               NaN             NaN   \n",
       "5                        NaN               NaN             NaN   \n",
       "6                        NaN               NaN             NaN   \n",
       "7                        NaN               NaN             NaN   \n",
       "8                        NaN               NaN             NaN   \n",
       "9                        NaN               NaN             NaN   \n",
       "12                       NaN               NaN             NaN   \n",
       "\n",
       "   settlement_amount settlement_percentage settlement_term  \n",
       "0                NaN                   NaN             NaN  \n",
       "1                NaN                   NaN             NaN  \n",
       "2                NaN                   NaN             NaN  \n",
       "4                NaN                   NaN             NaN  \n",
       "5                NaN                   NaN             NaN  \n",
       "6                NaN                   NaN             NaN  \n",
       "7                NaN                   NaN             NaN  \n",
       "8                NaN                   NaN             NaN  \n",
       "9                NaN                   NaN             NaN  \n",
       "12               NaN                   NaN             NaN  \n",
       "\n",
       "[10 rows x 151 columns]"
      ]
     },
     "execution_count": 15,
     "metadata": {},
     "output_type": "execute_result"
    }
   ],
   "source": [
    "lc_df.head(10)"
   ]
  },
  {
   "cell_type": "markdown",
   "metadata": {},
   "source": [
    "### (5) Feature selection"
   ]
  },
  {
   "cell_type": "markdown",
   "metadata": {},
   "source": [
    "Currently the dataset has 151 features. We will remove features with substantial missing values and features that would not be available to investors.\n",
    "\n",
    "We will drop features missing more than 20% of its data. Of the remaining features, we will then select the ones that would be available to investors prior to financing the loan."
   ]
  },
  {
   "cell_type": "code",
   "execution_count": 16,
   "metadata": {
    "scrolled": true
   },
   "outputs": [],
   "source": [
    "null_values = lc_df.isnull()"
   ]
  },
  {
   "cell_type": "code",
   "execution_count": 17,
   "metadata": {
    "scrolled": true
   },
   "outputs": [],
   "source": [
    "percent_null = null_values.mean()"
   ]
  },
  {
   "cell_type": "code",
   "execution_count": 18,
   "metadata": {},
   "outputs": [],
   "source": [
    "percent_null = percent_null.sort_values(ascending=False)"
   ]
  },
  {
   "cell_type": "code",
   "execution_count": 19,
   "metadata": {},
   "outputs": [
    {
     "data": {
      "text/plain": [
       "member_id                                     1.000000\n",
       "next_pymnt_d                                  1.000000\n",
       "orig_projected_additional_accrued_interest    0.997206\n",
       "hardship_start_date                           0.995723\n",
       "hardship_end_date                             0.995723\n",
       "payment_plan_start_date                       0.995723\n",
       "hardship_length                               0.995723\n",
       "hardship_dpd                                  0.995723\n",
       "hardship_loan_status                          0.995723\n",
       "hardship_last_payment_amount                  0.995723\n",
       "dtype: float64"
      ]
     },
     "execution_count": 19,
     "metadata": {},
     "output_type": "execute_result"
    }
   ],
   "source": [
    "# features missing the most data\n",
    "percent_null.head(10)"
   ]
  },
  {
   "cell_type": "code",
   "execution_count": 20,
   "metadata": {},
   "outputs": [
    {
     "data": {
      "text/plain": [
       "Text(0, 0.5, 'features')"
      ]
     },
     "execution_count": 20,
     "metadata": {},
     "output_type": "execute_result"
    },
    {
     "data": {
      "image/png": "[encoded data removed]",
      "text/plain": [
       "<Figure size 432x288 with 1 Axes>"
      ]
     },
     "metadata": {
      "needs_background": "light"
     },
     "output_type": "display_data"
    }
   ],
   "source": [
    "# Visualize the distribution of missing data percentages\n",
    "plt.figure()\n",
    "percent_null.plot.hist(bins=24)\n",
    "plt.xlabel('% data missing')\n",
    "plt.ylabel('features')"
   ]
  },
  {
   "cell_type": "markdown",
   "metadata": {},
   "source": [
    "Select and store in alphabetical order the variables with more than 20% of values missing."
   ]
  },
  {
   "cell_type": "code",
   "execution_count": 21,
   "metadata": {},
   "outputs": [],
   "source": [
    "percent_null = percent_null[percent_null > 0.2]"
   ]
  },
  {
   "cell_type": "code",
   "execution_count": 22,
   "metadata": {
    "scrolled": true
   },
   "outputs": [],
   "source": [
    "features_drop = sorted(percent_null[percent_null > 0.2].index)"
   ]
  },
  {
   "cell_type": "markdown",
   "metadata": {},
   "source": [
    "Number of features with more than 20% values missing:"
   ]
  },
  {
   "cell_type": "code",
   "execution_count": 23,
   "metadata": {},
   "outputs": [
    {
     "data": {
      "text/plain": [
       "58"
      ]
     },
     "execution_count": 23,
     "metadata": {},
     "output_type": "execute_result"
    }
   ],
   "source": [
    "len(features_drop)"
   ]
  },
  {
   "cell_type": "markdown",
   "metadata": {},
   "source": [
    "Remove these features using the pandas 'drop' method:"
   ]
  },
  {
   "cell_type": "code",
   "execution_count": 24,
   "metadata": {},
   "outputs": [
    {
     "data": {
      "text/plain": [
       "(1345310, 151)"
      ]
     },
     "execution_count": 24,
     "metadata": {},
     "output_type": "execute_result"
    }
   ],
   "source": [
    "lc_df.shape"
   ]
  },
  {
   "cell_type": "code",
   "execution_count": 25,
   "metadata": {},
   "outputs": [],
   "source": [
    "lc_df.drop(labels=features_drop, axis=1, inplace=True)"
   ]
  },
  {
   "cell_type": "code",
   "execution_count": 26,
   "metadata": {},
   "outputs": [
    {
     "data": {
      "text/plain": [
       "(1345310, 93)"
      ]
     },
     "execution_count": 26,
     "metadata": {},
     "output_type": "execute_result"
    }
   ],
   "source": [
    "lc_df.shape"
   ]
  },
  {
   "cell_type": "markdown",
   "metadata": {},
   "source": [
    "93 features remain after removing variables with more the 20% missing values."
   ]
  },
  {
   "cell_type": "markdown",
   "metadata": {},
   "source": [
    "Now we need to identify features that would be available for financing decisions."
   ]
  },
  {
   "cell_type": "code",
   "execution_count": 27,
   "metadata": {},
   "outputs": [],
   "source": [
    "features_keep = [\n",
    "    'addr_state', 'annual_inc', 'application_type', 'fico_range_high', \n",
    "    'fico_range_low', 'home_ownership', 'initial_list_status', \n",
    "    'installment', 'int_rate', 'loan_amnt', 'loan_status', \n",
    "    'open_acc', 'pub_rec', 'purpose', 'revol_bal', \n",
    "    'sub_grade', 'term', 'total_acc', 'verification_status'\n",
    "    ]"
   ]
  },
  {
   "cell_type": "code",
   "execution_count": 28,
   "metadata": {},
   "outputs": [
    {
     "name": "stdout",
     "output_type": "stream",
     "text": [
      "['addr_state', 'annual_inc', 'application_type', 'fico_range_high', 'fico_range_low', 'home_ownership', 'initial_list_status', 'installment', 'int_rate', 'loan_amnt', 'loan_status', 'open_acc', 'pub_rec', 'purpose', 'revol_bal', 'sub_grade', 'term', 'total_acc', 'verification_status']\n"
     ]
    }
   ],
   "source": [
    "print(features_keep)"
   ]
  },
  {
   "cell_type": "code",
   "execution_count": 29,
   "metadata": {},
   "outputs": [
    {
     "data": {
      "text/plain": [
       "19"
      ]
     },
     "execution_count": 29,
     "metadata": {},
     "output_type": "execute_result"
    }
   ],
   "source": [
    "len(features_keep)"
   ]
  },
  {
   "cell_type": "markdown",
   "metadata": {},
   "source": [
    "Now we make a list of the features we do not want to use in the model. "
   ]
  },
  {
   "cell_type": "code",
   "execution_count": 30,
   "metadata": {},
   "outputs": [
    {
     "name": "stdout",
     "output_type": "stream",
     "text": [
      "['id', 'funded_amnt', 'funded_amnt_inv', 'grade', 'emp_title', 'emp_length', 'issue_d', 'pymnt_plan', 'url', 'title', 'zip_code', 'dti', 'delinq_2yrs', 'earliest_cr_line', 'inq_last_6mths', 'revol_util', 'out_prncp', 'out_prncp_inv', 'total_pymnt', 'total_pymnt_inv', 'total_rec_prncp', 'total_rec_int', 'total_rec_late_fee', 'recoveries', 'collection_recovery_fee', 'last_pymnt_d', 'last_pymnt_amnt', 'last_credit_pull_d', 'last_fico_range_high', 'last_fico_range_low', 'collections_12_mths_ex_med', 'policy_code', 'acc_now_delinq', 'tot_coll_amt', 'tot_cur_bal', 'total_rev_hi_lim', 'acc_open_past_24mths', 'avg_cur_bal', 'bc_open_to_buy', 'bc_util', 'chargeoff_within_12_mths', 'delinq_amnt', 'mo_sin_old_il_acct', 'mo_sin_old_rev_tl_op', 'mo_sin_rcnt_rev_tl_op', 'mo_sin_rcnt_tl', 'mort_acc', 'mths_since_recent_bc', 'mths_since_recent_inq', 'num_accts_ever_120_pd', 'num_actv_bc_tl', 'num_actv_rev_tl', 'num_bc_sats', 'num_bc_tl', 'num_il_tl', 'num_op_rev_tl', 'num_rev_accts', 'num_rev_tl_bal_gt_0', 'num_sats', 'num_tl_120dpd_2m', 'num_tl_30dpd', 'num_tl_90g_dpd_24m', 'num_tl_op_past_12m', 'pct_tl_nvr_dlq', 'percent_bc_gt_75', 'pub_rec_bankruptcies', 'tax_liens', 'tot_hi_cred_lim', 'total_bal_ex_mort', 'total_bc_limit', 'total_il_high_credit_limit', 'hardship_flag', 'disbursement_method', 'debt_settlement_flag']\n",
      "Number of features to drop: 74\n"
     ]
    }
   ],
   "source": [
    "features_drop = [x for x in lc_df.columns if x not in features_keep]\n",
    "print(features_drop)\n",
    "print(\"Number of features to drop:\", (len(features_drop)))"
   ]
  },
  {
   "cell_type": "code",
   "execution_count": 31,
   "metadata": {},
   "outputs": [],
   "source": [
    "lc_df.drop(labels=features_drop, axis=1, inplace=True)"
   ]
  },
  {
   "cell_type": "code",
   "execution_count": 32,
   "metadata": {},
   "outputs": [
    {
     "data": {
      "text/plain": [
       "(1345310, 19)"
      ]
     },
     "execution_count": 32,
     "metadata": {},
     "output_type": "execute_result"
    }
   ],
   "source": [
    "lc_df.shape "
   ]
  },
  {
   "cell_type": "markdown",
   "metadata": {},
   "source": [
    "**QUESTION: How many features are left in the dataset? How many observations?**"
   ]
  },
  {
   "cell_type": "markdown",
   "metadata": {},
   "source": [
    "Answer:  There are 19 features in this dataset and 1345310 observations in the dataset "
   ]
  },
  {
   "cell_type": "markdown",
   "metadata": {},
   "source": [
    "### 6 - Preprocessing"
   ]
  },
  {
   "cell_type": "markdown",
   "metadata": {},
   "source": [
    "Convert strings to integers for 'term' feature and 'emp_length' feature:"
   ]
  },
  {
   "cell_type": "code",
   "execution_count": 33,
   "metadata": {},
   "outputs": [],
   "source": [
    "# Convert term to integers\n",
    "lc_df['term'] = lc_df['term'].apply(lambda s: np.int8(s.split()[0]))"
   ]
  },
  {
   "cell_type": "markdown",
   "metadata": {},
   "source": [
    "Use dummy variables for loan_status target feature:"
   ]
  },
  {
   "cell_type": "code",
   "execution_count": 34,
   "metadata": {},
   "outputs": [],
   "source": [
    "lc_df['charged_off'] = (lc_df['loan_status'] == 'Charged Off').apply(np.uint8)\n",
    "lc_df.drop('loan_status', axis=1, inplace=True)"
   ]
  },
  {
   "cell_type": "code",
   "execution_count": 35,
   "metadata": {},
   "outputs": [
    {
     "data": {
      "text/plain": [
       "(1345310, 19)"
      ]
     },
     "execution_count": 35,
     "metadata": {},
     "output_type": "execute_result"
    }
   ],
   "source": [
    "lc_df[\"charged_off\"]"
   ]
  },
  {
   "cell_type": "markdown",
   "metadata": {},
   "source": [
    "Create dummy variables fo the categorical features:"
   ]
  },
  {
   "cell_type": "code",
   "execution_count": 36,
   "metadata": {},
   "outputs": [
    {
     "data": {
      "text/plain": [
       "loan_amnt              float64\n",
       "term                     int64\n",
       "int_rate               float64\n",
       "installment            float64\n",
       "sub_grade               object\n",
       "home_ownership          object\n",
       "annual_inc             float64\n",
       "verification_status     object\n",
       "purpose                 object\n",
       "addr_state              object\n",
       "fico_range_low         float64\n",
       "fico_range_high        float64\n",
       "open_acc               float64\n",
       "pub_rec                float64\n",
       "revol_bal              float64\n",
       "total_acc              float64\n",
       "initial_list_status     object\n",
       "application_type        object\n",
       "charged_off              int64\n",
       "dtype: object"
      ]
     },
     "execution_count": 36,
     "metadata": {},
     "output_type": "execute_result"
    }
   ],
   "source": [
    "lc_df.dtypes"
   ]
  },
  {
   "cell_type": "code",
   "execution_count": 37,
   "metadata": {},
   "outputs": [],
   "source": [
    "lc_df = pd.get_dummies(lc_df, columns=['sub_grade', 'home_ownership', 'verification_status', 'purpose', 'addr_state', 'initial_list_status', 'application_type'], drop_first=True)"
   ]
  },
  {
   "cell_type": "code",
   "execution_count": 38,
   "metadata": {},
   "outputs": [
    {
     "data": {
      "text/plain": [
       "(1345310, 118)"
      ]
     },
     "execution_count": 38,
     "metadata": {},
     "output_type": "execute_result"
    }
   ],
   "source": [
    "lc_df.shape"
   ]
  },
  {
   "cell_type": "code",
   "execution_count": 39,
   "metadata": {
    "scrolled": true
   },
   "outputs": [
    {
     "data": {
      "text/html": [
       "<div>\n",
       "<style scoped>\n",
       "    .dataframe tbody tr th:only-of-type {\n",
       "        vertical-align: middle;\n",
       "    }\n",
       "\n",
       "    .dataframe tbody tr th {\n",
       "        vertical-align: top;\n",
       "    }\n",
       "\n",
       "    .dataframe thead th {\n",
       "        text-align: right;\n",
       "    }\n",
       "</style>\n",
       "<table border=\"1\" class=\"dataframe\">\n",
       "  <thead>\n",
       "    <tr style=\"text-align: right;\">\n",
       "      <th></th>\n",
       "      <th>loan_amnt</th>\n",
       "      <th>term</th>\n",
       "      <th>int_rate</th>\n",
       "      <th>installment</th>\n",
       "      <th>annual_inc</th>\n",
       "      <th>fico_range_low</th>\n",
       "      <th>fico_range_high</th>\n",
       "      <th>open_acc</th>\n",
       "      <th>pub_rec</th>\n",
       "      <th>revol_bal</th>\n",
       "      <th>...</th>\n",
       "      <th>addr_state_TX</th>\n",
       "      <th>addr_state_UT</th>\n",
       "      <th>addr_state_VA</th>\n",
       "      <th>addr_state_VT</th>\n",
       "      <th>addr_state_WA</th>\n",
       "      <th>addr_state_WI</th>\n",
       "      <th>addr_state_WV</th>\n",
       "      <th>addr_state_WY</th>\n",
       "      <th>initial_list_status_w</th>\n",
       "      <th>application_type_Joint App</th>\n",
       "    </tr>\n",
       "  </thead>\n",
       "  <tbody>\n",
       "    <tr>\n",
       "      <th>1632538</th>\n",
       "      <td>7000.0</td>\n",
       "      <td>36</td>\n",
       "      <td>12.68</td>\n",
       "      <td>234.79</td>\n",
       "      <td>35000.00</td>\n",
       "      <td>670.0</td>\n",
       "      <td>674.0</td>\n",
       "      <td>12.0</td>\n",
       "      <td>0.0</td>\n",
       "      <td>9185.0</td>\n",
       "      <td>...</td>\n",
       "      <td>0</td>\n",
       "      <td>0</td>\n",
       "      <td>0</td>\n",
       "      <td>0</td>\n",
       "      <td>0</td>\n",
       "      <td>0</td>\n",
       "      <td>0</td>\n",
       "      <td>0</td>\n",
       "      <td>0</td>\n",
       "      <td>0</td>\n",
       "    </tr>\n",
       "    <tr>\n",
       "      <th>37931</th>\n",
       "      <td>30000.0</td>\n",
       "      <td>36</td>\n",
       "      <td>7.89</td>\n",
       "      <td>938.57</td>\n",
       "      <td>72000.00</td>\n",
       "      <td>680.0</td>\n",
       "      <td>684.0</td>\n",
       "      <td>6.0</td>\n",
       "      <td>0.0</td>\n",
       "      <td>18468.0</td>\n",
       "      <td>...</td>\n",
       "      <td>0</td>\n",
       "      <td>0</td>\n",
       "      <td>0</td>\n",
       "      <td>0</td>\n",
       "      <td>0</td>\n",
       "      <td>0</td>\n",
       "      <td>0</td>\n",
       "      <td>0</td>\n",
       "      <td>1</td>\n",
       "      <td>0</td>\n",
       "    </tr>\n",
       "    <tr>\n",
       "      <th>200296</th>\n",
       "      <td>14050.0</td>\n",
       "      <td>36</td>\n",
       "      <td>15.61</td>\n",
       "      <td>491.26</td>\n",
       "      <td>45086.92</td>\n",
       "      <td>675.0</td>\n",
       "      <td>679.0</td>\n",
       "      <td>7.0</td>\n",
       "      <td>0.0</td>\n",
       "      <td>2748.0</td>\n",
       "      <td>...</td>\n",
       "      <td>0</td>\n",
       "      <td>0</td>\n",
       "      <td>0</td>\n",
       "      <td>0</td>\n",
       "      <td>0</td>\n",
       "      <td>0</td>\n",
       "      <td>0</td>\n",
       "      <td>0</td>\n",
       "      <td>1</td>\n",
       "      <td>0</td>\n",
       "    </tr>\n",
       "    <tr>\n",
       "      <th>1107106</th>\n",
       "      <td>7000.0</td>\n",
       "      <td>36</td>\n",
       "      <td>9.17</td>\n",
       "      <td>223.16</td>\n",
       "      <td>45000.00</td>\n",
       "      <td>660.0</td>\n",
       "      <td>664.0</td>\n",
       "      <td>9.0</td>\n",
       "      <td>1.0</td>\n",
       "      <td>3501.0</td>\n",
       "      <td>...</td>\n",
       "      <td>0</td>\n",
       "      <td>0</td>\n",
       "      <td>0</td>\n",
       "      <td>0</td>\n",
       "      <td>0</td>\n",
       "      <td>0</td>\n",
       "      <td>0</td>\n",
       "      <td>0</td>\n",
       "      <td>1</td>\n",
       "      <td>0</td>\n",
       "    </tr>\n",
       "    <tr>\n",
       "      <th>1136330</th>\n",
       "      <td>11500.0</td>\n",
       "      <td>36</td>\n",
       "      <td>11.44</td>\n",
       "      <td>378.90</td>\n",
       "      <td>70000.00</td>\n",
       "      <td>660.0</td>\n",
       "      <td>664.0</td>\n",
       "      <td>8.0</td>\n",
       "      <td>0.0</td>\n",
       "      <td>26518.0</td>\n",
       "      <td>...</td>\n",
       "      <td>0</td>\n",
       "      <td>0</td>\n",
       "      <td>0</td>\n",
       "      <td>0</td>\n",
       "      <td>0</td>\n",
       "      <td>0</td>\n",
       "      <td>0</td>\n",
       "      <td>0</td>\n",
       "      <td>1</td>\n",
       "      <td>0</td>\n",
       "    </tr>\n",
       "    <tr>\n",
       "      <th>1259606</th>\n",
       "      <td>15000.0</td>\n",
       "      <td>36</td>\n",
       "      <td>12.49</td>\n",
       "      <td>501.74</td>\n",
       "      <td>74000.00</td>\n",
       "      <td>675.0</td>\n",
       "      <td>679.0</td>\n",
       "      <td>9.0</td>\n",
       "      <td>0.0</td>\n",
       "      <td>31041.0</td>\n",
       "      <td>...</td>\n",
       "      <td>0</td>\n",
       "      <td>0</td>\n",
       "      <td>1</td>\n",
       "      <td>0</td>\n",
       "      <td>0</td>\n",
       "      <td>0</td>\n",
       "      <td>0</td>\n",
       "      <td>0</td>\n",
       "      <td>1</td>\n",
       "      <td>0</td>\n",
       "    </tr>\n",
       "    <tr>\n",
       "      <th>32250</th>\n",
       "      <td>12000.0</td>\n",
       "      <td>36</td>\n",
       "      <td>7.89</td>\n",
       "      <td>375.43</td>\n",
       "      <td>62000.00</td>\n",
       "      <td>680.0</td>\n",
       "      <td>684.0</td>\n",
       "      <td>13.0</td>\n",
       "      <td>0.0</td>\n",
       "      <td>11522.0</td>\n",
       "      <td>...</td>\n",
       "      <td>0</td>\n",
       "      <td>0</td>\n",
       "      <td>0</td>\n",
       "      <td>0</td>\n",
       "      <td>0</td>\n",
       "      <td>0</td>\n",
       "      <td>0</td>\n",
       "      <td>0</td>\n",
       "      <td>1</td>\n",
       "      <td>0</td>\n",
       "    </tr>\n",
       "    <tr>\n",
       "      <th>1489743</th>\n",
       "      <td>20000.0</td>\n",
       "      <td>36</td>\n",
       "      <td>17.47</td>\n",
       "      <td>717.75</td>\n",
       "      <td>28920.00</td>\n",
       "      <td>695.0</td>\n",
       "      <td>699.0</td>\n",
       "      <td>10.0</td>\n",
       "      <td>0.0</td>\n",
       "      <td>7025.0</td>\n",
       "      <td>...</td>\n",
       "      <td>0</td>\n",
       "      <td>0</td>\n",
       "      <td>0</td>\n",
       "      <td>0</td>\n",
       "      <td>0</td>\n",
       "      <td>0</td>\n",
       "      <td>0</td>\n",
       "      <td>0</td>\n",
       "      <td>1</td>\n",
       "      <td>0</td>\n",
       "    </tr>\n",
       "    <tr>\n",
       "      <th>1333593</th>\n",
       "      <td>1600.0</td>\n",
       "      <td>36</td>\n",
       "      <td>11.99</td>\n",
       "      <td>53.14</td>\n",
       "      <td>90000.00</td>\n",
       "      <td>685.0</td>\n",
       "      <td>689.0</td>\n",
       "      <td>8.0</td>\n",
       "      <td>0.0</td>\n",
       "      <td>3547.0</td>\n",
       "      <td>...</td>\n",
       "      <td>0</td>\n",
       "      <td>0</td>\n",
       "      <td>0</td>\n",
       "      <td>0</td>\n",
       "      <td>0</td>\n",
       "      <td>0</td>\n",
       "      <td>0</td>\n",
       "      <td>0</td>\n",
       "      <td>0</td>\n",
       "      <td>0</td>\n",
       "    </tr>\n",
       "    <tr>\n",
       "      <th>1147142</th>\n",
       "      <td>6400.0</td>\n",
       "      <td>36</td>\n",
       "      <td>12.39</td>\n",
       "      <td>213.77</td>\n",
       "      <td>75000.00</td>\n",
       "      <td>670.0</td>\n",
       "      <td>674.0</td>\n",
       "      <td>14.0</td>\n",
       "      <td>0.0</td>\n",
       "      <td>26328.0</td>\n",
       "      <td>...</td>\n",
       "      <td>0</td>\n",
       "      <td>0</td>\n",
       "      <td>0</td>\n",
       "      <td>0</td>\n",
       "      <td>0</td>\n",
       "      <td>1</td>\n",
       "      <td>0</td>\n",
       "      <td>0</td>\n",
       "      <td>1</td>\n",
       "      <td>0</td>\n",
       "    </tr>\n",
       "  </tbody>\n",
       "</table>\n",
       "<p>10 rows × 118 columns</p>\n",
       "</div>"
      ],
      "text/plain": [
       "         loan_amnt  term  int_rate  installment  annual_inc  fico_range_low  \\\n",
       "1632538     7000.0    36     12.68       234.79    35000.00           670.0   \n",
       "37931      30000.0    36      7.89       938.57    72000.00           680.0   \n",
       "200296     14050.0    36     15.61       491.26    45086.92           675.0   \n",
       "1107106     7000.0    36      9.17       223.16    45000.00           660.0   \n",
       "1136330    11500.0    36     11.44       378.90    70000.00           660.0   \n",
       "1259606    15000.0    36     12.49       501.74    74000.00           675.0   \n",
       "32250      12000.0    36      7.89       375.43    62000.00           680.0   \n",
       "1489743    20000.0    36     17.47       717.75    28920.00           695.0   \n",
       "1333593     1600.0    36     11.99        53.14    90000.00           685.0   \n",
       "1147142     6400.0    36     12.39       213.77    75000.00           670.0   \n",
       "\n",
       "         fico_range_high  open_acc  pub_rec  revol_bal  ...  addr_state_TX  \\\n",
       "1632538            674.0      12.0      0.0     9185.0  ...              0   \n",
       "37931              684.0       6.0      0.0    18468.0  ...              0   \n",
       "200296             679.0       7.0      0.0     2748.0  ...              0   \n",
       "1107106            664.0       9.0      1.0     3501.0  ...              0   \n",
       "1136330            664.0       8.0      0.0    26518.0  ...              0   \n",
       "1259606            679.0       9.0      0.0    31041.0  ...              0   \n",
       "32250              684.0      13.0      0.0    11522.0  ...              0   \n",
       "1489743            699.0      10.0      0.0     7025.0  ...              0   \n",
       "1333593            689.0       8.0      0.0     3547.0  ...              0   \n",
       "1147142            674.0      14.0      0.0    26328.0  ...              0   \n",
       "\n",
       "         addr_state_UT  addr_state_VA  addr_state_VT  addr_state_WA  \\\n",
       "1632538              0              0              0              0   \n",
       "37931                0              0              0              0   \n",
       "200296               0              0              0              0   \n",
       "1107106              0              0              0              0   \n",
       "1136330              0              0              0              0   \n",
       "1259606              0              1              0              0   \n",
       "32250                0              0              0              0   \n",
       "1489743              0              0              0              0   \n",
       "1333593              0              0              0              0   \n",
       "1147142              0              0              0              0   \n",
       "\n",
       "         addr_state_WI  addr_state_WV  addr_state_WY  initial_list_status_w  \\\n",
       "1632538              0              0              0                      0   \n",
       "37931                0              0              0                      1   \n",
       "200296               0              0              0                      1   \n",
       "1107106              0              0              0                      1   \n",
       "1136330              0              0              0                      1   \n",
       "1259606              0              0              0                      1   \n",
       "32250                0              0              0                      1   \n",
       "1489743              0              0              0                      1   \n",
       "1333593              0              0              0                      0   \n",
       "1147142              1              0              0                      1   \n",
       "\n",
       "         application_type_Joint App  \n",
       "1632538                           0  \n",
       "37931                             0  \n",
       "200296                            0  \n",
       "1107106                           0  \n",
       "1136330                           0  \n",
       "1259606                           0  \n",
       "32250                             0  \n",
       "1489743                           0  \n",
       "1333593                           0  \n",
       "1147142                           0  \n",
       "\n",
       "[10 rows x 118 columns]"
      ]
     },
     "execution_count": 39,
     "metadata": {},
     "output_type": "execute_result"
    }
   ],
   "source": [
    "lc_df.sample(10)"
   ]
  },
  {
   "cell_type": "markdown",
   "metadata": {},
   "source": [
    "### 7 - Logistic regression"
   ]
  },
  {
   "cell_type": "markdown",
   "metadata": {},
   "source": [
    "Create training/test sets:"
   ]
  },
  {
   "cell_type": "code",
   "execution_count": 44,
   "metadata": {},
   "outputs": [],
   "source": [
    "from sklearn.model_selection import train_test_split"
   ]
  },
  {
   "cell_type": "code",
   "execution_count": 48,
   "metadata": {},
   "outputs": [],
   "source": [
    "train, test = train_test_split(lc_df,test_size=0.2)"
   ]
  },
  {
   "cell_type": "code",
   "execution_count": 49,
   "metadata": {},
   "outputs": [
    {
     "data": {
      "text/plain": [
       "(1076248, 118)"
      ]
     },
     "execution_count": 49,
     "metadata": {},
     "output_type": "execute_result"
    }
   ],
   "source": [
    "train.shape"
   ]
  },
  {
   "cell_type": "code",
   "execution_count": 50,
   "metadata": {},
   "outputs": [
    {
     "data": {
      "text/plain": [
       "(269062, 118)"
      ]
     },
     "execution_count": 50,
     "metadata": {},
     "output_type": "execute_result"
    }
   ],
   "source": [
    "test.shape"
   ]
  },
  {
   "cell_type": "code",
   "execution_count": 51,
   "metadata": {},
   "outputs": [],
   "source": [
    "test_data = test.drop([\"charged_off\"], axis = 1)"
   ]
  },
  {
   "cell_type": "code",
   "execution_count": 52,
   "metadata": {},
   "outputs": [
    {
     "data": {
      "text/plain": [
       "(269062, 117)"
      ]
     },
     "execution_count": 52,
     "metadata": {},
     "output_type": "execute_result"
    }
   ],
   "source": [
    "test_data.shape"
   ]
  },
  {
   "cell_type": "code",
   "execution_count": 53,
   "metadata": {},
   "outputs": [],
   "source": [
    "y_test_data = test[\"charged_off\"]"
   ]
  },
  {
   "cell_type": "code",
   "execution_count": 54,
   "metadata": {},
   "outputs": [
    {
     "data": {
      "text/plain": [
       "(269062,)"
      ]
     },
     "execution_count": 54,
     "metadata": {},
     "output_type": "execute_result"
    }
   ],
   "source": [
    "y_test_data.shape"
   ]
  },
  {
   "cell_type": "code",
   "execution_count": 55,
   "metadata": {},
   "outputs": [],
   "source": [
    "y_training_data = train[\"charged_off\"]"
   ]
  },
  {
   "cell_type": "code",
   "execution_count": 56,
   "metadata": {},
   "outputs": [],
   "source": [
    "x_train_data = train.drop([\"charged_off\"], axis=1)"
   ]
  },
  {
   "cell_type": "code",
   "execution_count": 57,
   "metadata": {},
   "outputs": [
    {
     "data": {
      "text/plain": [
       "<bound method NDFrame.head of          loan_amnt  term  int_rate  installment  annual_inc  fico_range_low  \\\n",
       "1266079     4500.0    36     15.61       157.35    64000.00           670.0   \n",
       "1337594     1000.0    36     19.97        37.15   100000.00           660.0   \n",
       "2172927    20000.0    36     14.99       693.21   105000.00           660.0   \n",
       "1853067    21350.0    36     12.12       710.35    52000.00           700.0   \n",
       "1087019    16000.0    36     11.48       527.47    80000.00           670.0   \n",
       "1729618    18000.0    36     10.49       584.96    70000.00           715.0   \n",
       "1891229    10000.0    36     14.09       342.22    55000.00           700.0   \n",
       "1782141     8000.0    36      6.03       243.49   120000.00           745.0   \n",
       "1233947    12000.0    36     22.15       459.22    65000.00           660.0   \n",
       "56342       5000.0    36      6.89       154.14    45000.00           730.0   \n",
       "1828638     9975.0    36     15.88       350.11    59000.00           695.0   \n",
       "1326927    35000.0    36      9.67      1123.94   135000.00           740.0   \n",
       "187829     10000.0    36      9.17       318.79    54000.00           720.0   \n",
       "77748      23000.0    36      6.89       709.02   115000.00           705.0   \n",
       "1007709    35000.0    36     15.31      1218.61   123000.00           665.0   \n",
       "1136002    15625.0    36     18.54       569.13    46000.00           685.0   \n",
       "1884970    11000.0    36     14.33       377.72    32000.00           690.0   \n",
       "1936551     6650.0    36      9.91       214.30    25000.00           720.0   \n",
       "1294955    14800.0    60     14.64       349.31    48000.00           725.0   \n",
       "23965      25000.0    36      7.26       774.91   165000.00           725.0   \n",
       "1164496    12000.0    36      7.69       374.33   128000.00           700.0   \n",
       "1101089     5600.0    36     11.48       184.62    60000.00           740.0   \n",
       "1087987    14000.0    36      8.49       441.89    99000.00           670.0   \n",
       "1300989     8000.0    36      9.67       256.90    70000.00           695.0   \n",
       "733407     28000.0    36      5.32       843.22   130000.00           765.0   \n",
       "1871994     6300.0    36     16.29       222.40    23000.00           695.0   \n",
       "1902054    28000.0    36      8.90       889.09   120000.00           765.0   \n",
       "1164102     7500.0    36     13.35       253.98    33000.00           720.0   \n",
       "511335     12000.0    36      5.32       361.38   150000.00           695.0   \n",
       "1169249    15600.0    60      9.17       325.12    78000.00           665.0   \n",
       "...            ...   ...       ...          ...         ...             ...   \n",
       "1790873     5000.0    60     23.10       141.24    53000.00           715.0   \n",
       "320911     26000.0    60      9.99       552.30    81162.00           730.0   \n",
       "1235987    16000.0    36     16.99       570.37    85364.00           685.0   \n",
       "1147281    28800.0    60     11.44       632.52    84000.00           715.0   \n",
       "82086      31675.0    36     13.33      1072.30    72000.00           690.0   \n",
       "1169060     5000.0    36      9.17       159.40    58200.00           660.0   \n",
       "301847     20000.0    60     12.69       451.90    65000.00           700.0   \n",
       "115613      2000.0    36     14.65        68.99    55000.00           700.0   \n",
       "569181     13900.0    60     17.09       346.13    47840.00           665.0   \n",
       "119344     12000.0    60     13.33       275.07    53000.00           675.0   \n",
       "367983      9600.0    36      5.93       291.75    60000.00           735.0   \n",
       "2187865     4800.0    36     10.49       155.99    28000.00           685.0   \n",
       "690506     12000.0    36      9.16       382.50    74000.00           750.0   \n",
       "602114     12000.0    36      5.32       361.38   120000.00           730.0   \n",
       "677925     20000.0    36      9.16       637.49   149000.00           680.0   \n",
       "1899459     7000.0    36     12.12       232.91    41000.00           680.0   \n",
       "2048974    20000.0    60     16.02       486.58   100000.00           695.0   \n",
       "1934690     4625.0    36      7.62       144.13    17889.62           735.0   \n",
       "727674     25000.0    36      7.39       776.40   135000.00           685.0   \n",
       "361        23950.0    36     17.97       865.49   160000.00           675.0   \n",
       "209651     25000.0    60      9.99       531.06    86000.00           700.0   \n",
       "1849337    14400.0    36      8.90       457.25    95000.00           730.0   \n",
       "1768626     9750.0    36     13.67       331.68    30000.00           675.0   \n",
       "984636      8000.0    36      6.49       245.16    25000.00           750.0   \n",
       "1152719    12000.0    60     20.20       319.27   125000.00           665.0   \n",
       "326297     10150.0    36     13.33       343.61    42764.00           685.0   \n",
       "1142013    10000.0    36     12.39       334.01    30000.00           720.0   \n",
       "41096       7375.0    36      9.76       237.15    34000.00           660.0   \n",
       "1637458     1600.0    36     11.12        52.48    26880.00           735.0   \n",
       "1202099    24000.0    60     16.29       587.34    60000.00           680.0   \n",
       "\n",
       "         fico_range_high  open_acc  pub_rec  revol_bal  ...  addr_state_TX  \\\n",
       "1266079            674.0      11.0      0.0     3804.0  ...              0   \n",
       "1337594            664.0       4.0      1.0     4658.0  ...              0   \n",
       "2172927            664.0      12.0      0.0    10649.0  ...              0   \n",
       "1853067            704.0      13.0      0.0    14014.0  ...              0   \n",
       "1087019            674.0      10.0      0.0    18706.0  ...              0   \n",
       "1729618            719.0      19.0      0.0    32252.0  ...              1   \n",
       "1891229            704.0       5.0      0.0     3748.0  ...              0   \n",
       "1782141            749.0      13.0      0.0    29565.0  ...              0   \n",
       "1233947            664.0      11.0      0.0     4927.0  ...              0   \n",
       "56342              734.0       2.0      0.0     8566.0  ...              0   \n",
       "1828638            699.0       2.0      0.0     9513.0  ...              0   \n",
       "1326927            744.0      16.0      0.0    24837.0  ...              1   \n",
       "187829             724.0      12.0      0.0    24109.0  ...              0   \n",
       "77748              709.0      13.0      1.0    23106.0  ...              0   \n",
       "1007709            669.0       6.0      0.0     1593.0  ...              0   \n",
       "1136002            689.0       5.0      0.0     9564.0  ...              0   \n",
       "1884970            694.0      10.0      1.0     8577.0  ...              0   \n",
       "1936551            724.0       6.0      0.0    12931.0  ...              0   \n",
       "1294955            729.0       8.0      0.0     8634.0  ...              0   \n",
       "23965              729.0       4.0      0.0    15084.0  ...              0   \n",
       "1164496            704.0      15.0      0.0    12067.0  ...              0   \n",
       "1101089            744.0       8.0      0.0     5852.0  ...              0   \n",
       "1087987            674.0      13.0      1.0    10434.0  ...              0   \n",
       "1300989            699.0      10.0      1.0     5558.0  ...              0   \n",
       "733407             769.0       9.0      0.0     9898.0  ...              0   \n",
       "1871994            699.0       6.0      0.0    10612.0  ...              0   \n",
       "1902054            769.0       7.0      0.0      522.0  ...              1   \n",
       "1164102            724.0       7.0      0.0     6872.0  ...              0   \n",
       "511335             699.0       8.0      0.0    47359.0  ...              0   \n",
       "1169249            669.0      15.0      1.0    13786.0  ...              0   \n",
       "...                  ...       ...      ...        ...  ...            ...   \n",
       "1790873            719.0      11.0      0.0    16913.0  ...              0   \n",
       "320911             734.0      19.0      1.0    15297.0  ...              1   \n",
       "1235987            689.0      14.0      0.0     9605.0  ...              0   \n",
       "1147281            719.0      15.0      0.0    37461.0  ...              0   \n",
       "82086              694.0      13.0      0.0    35201.0  ...              0   \n",
       "1169060            664.0       9.0      1.0     9426.0  ...              0   \n",
       "301847             704.0       6.0      0.0     8964.0  ...              0   \n",
       "115613             704.0      14.0      0.0      645.0  ...              0   \n",
       "569181             669.0       6.0      0.0     9703.0  ...              0   \n",
       "119344             679.0      13.0      0.0    19084.0  ...              0   \n",
       "367983             739.0       7.0      0.0    11563.0  ...              0   \n",
       "2187865            689.0       7.0      0.0     4426.0  ...              0   \n",
       "690506             754.0      13.0      0.0    23063.0  ...              0   \n",
       "602114             734.0      16.0      0.0    18749.0  ...              0   \n",
       "677925             684.0      10.0      1.0     4118.0  ...              0   \n",
       "1899459            684.0       5.0      0.0     3430.0  ...              0   \n",
       "2048974            699.0       7.0      0.0    14804.0  ...              0   \n",
       "1934690            739.0       6.0      0.0     4980.0  ...              0   \n",
       "727674             689.0      11.0      0.0    37593.0  ...              1   \n",
       "361                679.0      14.0      1.0    13883.0  ...              0   \n",
       "209651             704.0      13.0      0.0    23920.0  ...              0   \n",
       "1849337            734.0      12.0      1.0     7962.0  ...              1   \n",
       "1768626            679.0       8.0      0.0    14950.0  ...              0   \n",
       "984636             754.0      17.0      0.0     5724.0  ...              1   \n",
       "1152719            669.0      14.0      1.0    11679.0  ...              0   \n",
       "326297             689.0      19.0      0.0    21082.0  ...              0   \n",
       "1142013            724.0       7.0      0.0    11905.0  ...              1   \n",
       "41096              664.0       5.0      0.0     5511.0  ...              0   \n",
       "1637458            739.0       5.0      0.0      523.0  ...              0   \n",
       "1202099            684.0       8.0      0.0    23744.0  ...              1   \n",
       "\n",
       "         addr_state_UT  addr_state_VA  addr_state_VT  addr_state_WA  \\\n",
       "1266079              0              0              0              0   \n",
       "1337594              0              0              0              0   \n",
       "2172927              0              0              0              0   \n",
       "1853067              0              0              0              0   \n",
       "1087019              0              0              0              0   \n",
       "1729618              0              0              0              0   \n",
       "1891229              0              1              0              0   \n",
       "1782141              0              0              0              0   \n",
       "1233947              0              0              0              0   \n",
       "56342                0              0              0              0   \n",
       "1828638              0              0              0              0   \n",
       "1326927              0              0              0              0   \n",
       "187829               0              0              0              0   \n",
       "77748                0              0              0              0   \n",
       "1007709              0              0              0              1   \n",
       "1136002              0              0              0              0   \n",
       "1884970              0              0              0              0   \n",
       "1936551              0              0              0              0   \n",
       "1294955              0              0              0              0   \n",
       "23965                0              0              0              0   \n",
       "1164496              0              0              0              0   \n",
       "1101089              0              0              0              0   \n",
       "1087987              0              0              0              0   \n",
       "1300989              0              0              0              0   \n",
       "733407               0              0              0              0   \n",
       "1871994              0              0              0              0   \n",
       "1902054              0              0              0              0   \n",
       "1164102              0              0              0              0   \n",
       "511335               0              0              0              0   \n",
       "1169249              0              0              0              0   \n",
       "...                ...            ...            ...            ...   \n",
       "1790873              0              0              0              0   \n",
       "320911               0              0              0              0   \n",
       "1235987              0              0              0              0   \n",
       "1147281              0              0              0              0   \n",
       "82086                0              0              0              0   \n",
       "1169060              0              0              0              0   \n",
       "301847               0              0              0              0   \n",
       "115613               0              0              0              0   \n",
       "569181               0              0              0              0   \n",
       "119344               0              0              0              0   \n",
       "367983               0              0              0              0   \n",
       "2187865              0              1              0              0   \n",
       "690506               0              0              0              0   \n",
       "602114               0              0              0              0   \n",
       "677925               0              0              0              0   \n",
       "1899459              0              0              0              0   \n",
       "2048974              0              0              0              0   \n",
       "1934690              0              0              0              0   \n",
       "727674               0              0              0              0   \n",
       "361                  0              0              0              0   \n",
       "209651               0              0              0              0   \n",
       "1849337              0              0              0              0   \n",
       "1768626              0              0              0              0   \n",
       "984636               0              0              0              0   \n",
       "1152719              0              0              0              0   \n",
       "326297               0              0              0              0   \n",
       "1142013              0              0              0              0   \n",
       "41096                0              0              0              0   \n",
       "1637458              0              0              0              0   \n",
       "1202099              0              0              0              0   \n",
       "\n",
       "         addr_state_WI  addr_state_WV  addr_state_WY  initial_list_status_w  \\\n",
       "1266079              0              0              0                      1   \n",
       "1337594              0              0              0                      0   \n",
       "2172927              0              0              0                      0   \n",
       "1853067              0              0              0                      0   \n",
       "1087019              0              0              0                      1   \n",
       "1729618              0              0              0                      1   \n",
       "1891229              0              0              0                      0   \n",
       "1782141              0              0              0                      0   \n",
       "1233947              0              0              0                      1   \n",
       "56342                0              0              0                      1   \n",
       "1828638              0              0              0                      0   \n",
       "1326927              0              0              0                      1   \n",
       "187829               0              0              0                      0   \n",
       "77748                0              0              0                      0   \n",
       "1007709              0              0              0                      1   \n",
       "1136002              0              0              0                      0   \n",
       "1884970              0              0              0                      0   \n",
       "1936551              0              0              0                      0   \n",
       "1294955              0              0              0                      0   \n",
       "23965                0              0              0                      0   \n",
       "1164496              0              0              0                      1   \n",
       "1101089              0              0              0                      1   \n",
       "1087987              0              0              0                      1   \n",
       "1300989              0              0              0                      1   \n",
       "733407               0              0              0                      1   \n",
       "1871994              0              0              0                      0   \n",
       "1902054              0              0              0                      1   \n",
       "1164102              0              0              0                      1   \n",
       "511335               0              0              0                      1   \n",
       "1169249              0              0              0                      1   \n",
       "...                ...            ...            ...                    ...   \n",
       "1790873              0              0              0                      1   \n",
       "320911               0              0              0                      1   \n",
       "1235987              0              0              0                      1   \n",
       "1147281              0              0              0                      1   \n",
       "82086                0              0              0                      1   \n",
       "1169060              0              0              0                      1   \n",
       "301847               0              0              0                      1   \n",
       "115613               0              0              0                      1   \n",
       "569181               0              0              0                      1   \n",
       "119344               0              0              0                      1   \n",
       "367983               0              0              0                      0   \n",
       "2187865              0              0              0                      1   \n",
       "690506               0              0              0                      1   \n",
       "602114               0              0              0                      0   \n",
       "677925               0              0              0                      1   \n",
       "1899459              0              0              0                      0   \n",
       "2048974              0              0              0                      1   \n",
       "1934690              0              0              0                      0   \n",
       "727674               0              0              0                      0   \n",
       "361                  0              0              0                      1   \n",
       "209651               0              0              0                      0   \n",
       "1849337              0              0              0                      0   \n",
       "1768626              1              0              0                      0   \n",
       "984636               0              0              0                      1   \n",
       "1152719              0              0              0                      0   \n",
       "326297               0              0              0                      0   \n",
       "1142013              0              0              0                      0   \n",
       "41096                0              0              0                      1   \n",
       "1637458              0              0              0                      0   \n",
       "1202099              0              0              0                      1   \n",
       "\n",
       "         application_type_Joint App  \n",
       "1266079                           0  \n",
       "1337594                           0  \n",
       "2172927                           0  \n",
       "1853067                           0  \n",
       "1087019                           1  \n",
       "1729618                           0  \n",
       "1891229                           0  \n",
       "1782141                           0  \n",
       "1233947                           0  \n",
       "56342                             0  \n",
       "1828638                           0  \n",
       "1326927                           0  \n",
       "187829                            0  \n",
       "77748                             0  \n",
       "1007709                           0  \n",
       "1136002                           0  \n",
       "1884970                           0  \n",
       "1936551                           0  \n",
       "1294955                           0  \n",
       "23965                             0  \n",
       "1164496                           0  \n",
       "1101089                           0  \n",
       "1087987                           0  \n",
       "1300989                           0  \n",
       "733407                            0  \n",
       "1871994                           0  \n",
       "1902054                           0  \n",
       "1164102                           0  \n",
       "511335                            0  \n",
       "1169249                           0  \n",
       "...                             ...  \n",
       "1790873                           0  \n",
       "320911                            0  \n",
       "1235987                           0  \n",
       "1147281                           0  \n",
       "82086                             0  \n",
       "1169060                           0  \n",
       "301847                            0  \n",
       "115613                            0  \n",
       "569181                            0  \n",
       "119344                            0  \n",
       "367983                            0  \n",
       "2187865                           1  \n",
       "690506                            0  \n",
       "602114                            0  \n",
       "677925                            0  \n",
       "1899459                           0  \n",
       "2048974                           0  \n",
       "1934690                           0  \n",
       "727674                            0  \n",
       "361                               0  \n",
       "209651                            0  \n",
       "1849337                           0  \n",
       "1768626                           0  \n",
       "984636                            0  \n",
       "1152719                           0  \n",
       "326297                            0  \n",
       "1142013                           0  \n",
       "41096                             0  \n",
       "1637458                           0  \n",
       "1202099                           0  \n",
       "\n",
       "[1076248 rows x 117 columns]>"
      ]
     },
     "execution_count": 57,
     "metadata": {},
     "output_type": "execute_result"
    }
   ],
   "source": [
    "x_train_data.head"
   ]
  },
  {
   "cell_type": "code",
   "execution_count": 59,
   "metadata": {},
   "outputs": [
    {
     "data": {
      "text/plain": [
       "<bound method NDFrame.head of 1266079    0\n",
       "1337594    0\n",
       "2172927    1\n",
       "1853067    0\n",
       "1087019    0\n",
       "1729618    0\n",
       "1891229    0\n",
       "1782141    0\n",
       "1233947    0\n",
       "56342      1\n",
       "1828638    0\n",
       "1326927    0\n",
       "187829     0\n",
       "77748      0\n",
       "1007709    1\n",
       "1136002    0\n",
       "1884970    0\n",
       "1936551    0\n",
       "1294955    0\n",
       "23965      0\n",
       "1164496    0\n",
       "1101089    0\n",
       "1087987    0\n",
       "1300989    0\n",
       "733407     0\n",
       "1871994    0\n",
       "1902054    0\n",
       "1164102    0\n",
       "511335     0\n",
       "1169249    0\n",
       "          ..\n",
       "1790873    0\n",
       "320911     1\n",
       "1235987    1\n",
       "1147281    0\n",
       "82086      0\n",
       "1169060    0\n",
       "301847     0\n",
       "115613     0\n",
       "569181     0\n",
       "119344     1\n",
       "367983     0\n",
       "2187865    0\n",
       "690506     0\n",
       "602114     0\n",
       "677925     0\n",
       "1899459    0\n",
       "2048974    1\n",
       "1934690    0\n",
       "727674     0\n",
       "361        1\n",
       "209651     0\n",
       "1849337    1\n",
       "1768626    0\n",
       "984636     0\n",
       "1152719    1\n",
       "326297     0\n",
       "1142013    0\n",
       "41096      0\n",
       "1637458    0\n",
       "1202099    0\n",
       "Name: charged_off, Length: 1076248, dtype: int64>"
      ]
     },
     "execution_count": 59,
     "metadata": {},
     "output_type": "execute_result"
    }
   ],
   "source": [
    "y_training_data.head"
   ]
  },
  {
   "cell_type": "raw",
   "metadata": {},
   "source": [
    "Logistic regression is one type of machine learning algorithm used in classification problems. Others include SVM, decision trees, etc. "
   ]
  },
  {
   "cell_type": "code",
   "execution_count": null,
   "metadata": {},
   "outputs": [],
   "source": []
  },
  {
   "cell_type": "code",
   "execution_count": 61,
   "metadata": {},
   "outputs": [],
   "source": [
    "# 1. Import the model\n",
    "from sklearn.linear_model import LogisticRegression"
   ]
  },
  {
   "cell_type": "code",
   "execution_count": 62,
   "metadata": {},
   "outputs": [],
   "source": [
    "# 2. Make an instance of the model\n",
    "logreg_model = LogisticRegression(class_weight='balanced')"
   ]
  },
  {
   "cell_type": "code",
   "execution_count": 64,
   "metadata": {},
   "outputs": [
    {
     "name": "stderr",
     "output_type": "stream",
     "text": [
      "//anaconda3/lib/python3.7/site-packages/sklearn/linear_model/logistic.py:432: FutureWarning: Default solver will be changed to 'lbfgs' in 0.22. Specify a solver to silence this warning.\n",
      "  FutureWarning)\n"
     ]
    },
    {
     "data": {
      "text/plain": [
       "LogisticRegression(C=1.0, class_weight='balanced', dual=False,\n",
       "                   fit_intercept=True, intercept_scaling=1, l1_ratio=None,\n",
       "                   max_iter=100, multi_class='warn', n_jobs=None, penalty='l2',\n",
       "                   random_state=None, solver='warn', tol=0.0001, verbose=0,\n",
       "                   warm_start=False)"
      ]
     },
     "execution_count": 64,
     "metadata": {},
     "output_type": "execute_result"
    }
   ],
   "source": [
    "# 3. Training the model\n",
    "logreg_model.fit(x_train_data, y_training_data)"
   ]
  },
  {
   "cell_type": "code",
   "execution_count": 66,
   "metadata": {},
   "outputs": [],
   "source": [
    "# 4. Predict from test data\n",
    "predictions = logreg_model.predict(test_data)"
   ]
  },
  {
   "cell_type": "code",
   "execution_count": 67,
   "metadata": {},
   "outputs": [
    {
     "data": {
      "text/plain": [
       "array([1, 0, 0, ..., 0, 1, 1])"
      ]
     },
     "execution_count": 67,
     "metadata": {},
     "output_type": "execute_result"
    }
   ],
   "source": [
    "predictions"
   ]
  },
  {
   "cell_type": "code",
   "execution_count": null,
   "metadata": {},
   "outputs": [],
   "source": [
    "predict."
   ]
  },
  {
   "cell_type": "markdown",
   "metadata": {},
   "source": [
    "We will measure performance using the accuracy of the model.\n",
    "\n",
    "accuracy = correct predictions / total number of data points\n",
    "\n",
    "Other methods include AUC, precision, recall, etc."
   ]
  },
  {
   "cell_type": "code",
   "execution_count": 68,
   "metadata": {},
   "outputs": [],
   "source": [
    "# Use the score method to return the accuracy of the model\n",
    "score = logreg_model.score(test_data, y_test_data)"
   ]
  },
  {
   "cell_type": "code",
   "execution_count": 70,
   "metadata": {},
   "outputs": [
    {
     "name": "stdout",
     "output_type": "stream",
     "text": [
      "0.6597252677821469\n"
     ]
    }
   ],
   "source": [
    "print (score)"
   ]
  },
  {
   "cell_type": "markdown",
   "metadata": {},
   "source": [
    "The result is the percentage of observations that your model correctly predicted. "
   ]
  }
 ],
 "metadata": {
  "kernelspec": {
   "display_name": "Python 3",
   "language": "python",
   "name": "python3"
  },
  "language_info": {
   "codemirror_mode": {
    "name": "ipython",
    "version": 3
   },
   "file_extension": ".py",
   "mimetype": "text/x-python",
   "name": "python",
   "nbconvert_exporter": "python",
   "pygments_lexer": "ipython3",
   "version": "3.7.3"
  }
 },
 "nbformat": 4,
 "nbformat_minor": 2
}
